{
 "cells": [
  {
   "cell_type": "code",
   "execution_count": 120,
   "id": "83eef118",
   "metadata": {
    "_cell_guid": "b1076dfc-b9ad-4769-8c92-a6c4dae69d19",
    "_uuid": "8f2839f25d086af736a60e9eeb907d3b93b6e0e5",
    "papermill": {
     "duration": 0.904212,
     "end_time": "2023-09-04T12:42:44.572678",
     "exception": false,
     "start_time": "2023-09-04T12:42:43.668466",
     "status": "completed"
    },
    "tags": []
   },
   "outputs": [],
   "source": [
    "#import Libraries\n",
    "import pandas as pd\n"
   ]
  },
  {
   "cell_type": "code",
   "execution_count": 122,
   "id": "312c96bb",
   "metadata": {
    "papermill": {
     "duration": 1.220712,
     "end_time": "2023-09-04T12:42:45.812499",
     "exception": false,
     "start_time": "2023-09-04T12:42:44.591787",
     "status": "completed"
    },
    "tags": []
   },
   "outputs": [],
   "source": [
    "#read csv\n",
    "df=pd.read_csv(r\"C:\\Users\\Mahmoud Ashraf\\ieee-jupyter\\task12\\train_blackFriday.csv\")"
   ]
  },
  {
   "cell_type": "code",
   "execution_count": 123,
   "id": "2d5d1292",
   "metadata": {
    "papermill": {
     "duration": 0.040451,
     "end_time": "2023-09-04T12:42:45.873616",
     "exception": false,
     "start_time": "2023-09-04T12:42:45.833165",
     "status": "completed"
    },
    "tags": []
   },
   "outputs": [
    {
     "data": {
      "text/plain": [
       "(550068, 12)"
      ]
     },
     "execution_count": 123,
     "metadata": {},
     "output_type": "execute_result"
    }
   ],
   "source": [
    "#number of rows and coulmns\n",
    "df.shape"
   ]
  },
  {
   "cell_type": "code",
   "execution_count": 124,
   "id": "df4207ae",
   "metadata": {
    "papermill": {
     "duration": 0.039371,
     "end_time": "2023-09-04T12:42:45.934384",
     "exception": false,
     "start_time": "2023-09-04T12:42:45.895013",
     "status": "completed"
    },
    "tags": []
   },
   "outputs": [
    {
     "data": {
      "text/plain": [
       "User_ID                         int64\n",
       "Product_ID                     object\n",
       "Gender                         object\n",
       "Age                            object\n",
       "Occupation                      int64\n",
       "City_Category                  object\n",
       "Stay_In_Current_City_Years     object\n",
       "Marital_Status                  int64\n",
       "Product_Category_1              int64\n",
       "Product_Category_2            float64\n",
       "Product_Category_3            float64\n",
       "Purchase                        int64\n",
       "dtype: object"
      ]
     },
     "execution_count": 124,
     "metadata": {},
     "output_type": "execute_result"
    }
   ],
   "source": [
    "#show data types found\n",
    "df.dtypes"
   ]
  },
  {
   "cell_type": "code",
   "execution_count": 127,
   "id": "114528be",
   "metadata": {
    "papermill": {
     "duration": 0.032531,
     "end_time": "2023-09-04T12:42:45.986946",
     "exception": false,
     "start_time": "2023-09-04T12:42:45.954415",
     "status": "completed"
    },
    "tags": []
   },
   "outputs": [
    {
     "data": {
      "text/plain": [
       "Index(['User_ID', 'Product_ID', 'Gender', 'Age', 'Occupation', 'City_Category',\n",
       "       'Stay_In_Current_City_Years', 'Marital_Status', 'Product_Category_1',\n",
       "       'Product_Category_2', 'Product_Category_3', 'Purchase'],\n",
       "      dtype='object')"
      ]
     },
     "execution_count": 127,
     "metadata": {},
     "output_type": "execute_result"
    }
   ],
   "source": [
    "#show coulmns\n",
    "df.columns"
   ]
  },
  {
   "cell_type": "code",
   "execution_count": 130,
   "id": "cc5e7240",
   "metadata": {
    "papermill": {
     "duration": 0.317204,
     "end_time": "2023-09-04T12:42:46.324671",
     "exception": false,
     "start_time": "2023-09-04T12:42:46.007467",
     "status": "completed"
    },
    "tags": []
   },
   "outputs": [
    {
     "data": {
      "text/plain": [
       "User_ID                            0\n",
       "Product_ID                         0\n",
       "Gender                             0\n",
       "Age                                0\n",
       "Occupation                         0\n",
       "City_Category                      0\n",
       "Stay_In_Current_City_Years         0\n",
       "Marital_Status                     0\n",
       "Product_Category_1                 0\n",
       "Product_Category_2            173638\n",
       "Product_Category_3            383247\n",
       "Purchase                           0\n",
       "dtype: int64"
      ]
     },
     "execution_count": 130,
     "metadata": {},
     "output_type": "execute_result"
    }
   ],
   "source": [
    "#Checking NaN values in the given dataset\n",
    "df.isna().sum()"
   ]
  },
  {
   "cell_type": "code",
   "execution_count": 132,
   "id": "19f96834",
   "metadata": {
    "papermill": {
     "duration": 0.450066,
     "end_time": "2023-09-04T12:42:46.796009",
     "exception": false,
     "start_time": "2023-09-04T12:42:46.345943",
     "status": "completed"
    },
    "tags": []
   },
   "outputs": [
    {
     "data": {
      "text/plain": [
       "0"
      ]
     },
     "execution_count": 132,
     "metadata": {},
     "output_type": "execute_result"
    }
   ],
   "source": [
    "#Checking duplicate values in the dataset\n",
    "df.duplicated().sum()"
   ]
  },
  {
   "cell_type": "code",
   "execution_count": 133,
   "id": "ed3af260",
   "metadata": {
    "papermill": {
     "duration": 0.044714,
     "end_time": "2023-09-04T12:42:46.861385",
     "exception": false,
     "start_time": "2023-09-04T12:42:46.816671",
     "status": "completed"
    },
    "tags": []
   },
   "outputs": [
    {
     "data": {
      "text/html": [
       "<div>\n",
       "<style scoped>\n",
       "    .dataframe tbody tr th:only-of-type {\n",
       "        vertical-align: middle;\n",
       "    }\n",
       "\n",
       "    .dataframe tbody tr th {\n",
       "        vertical-align: top;\n",
       "    }\n",
       "\n",
       "    .dataframe thead th {\n",
       "        text-align: right;\n",
       "    }\n",
       "</style>\n",
       "<table border=\"1\" class=\"dataframe\">\n",
       "  <thead>\n",
       "    <tr style=\"text-align: right;\">\n",
       "      <th></th>\n",
       "      <th>user_id</th>\n",
       "      <th>product_id</th>\n",
       "      <th>gender</th>\n",
       "      <th>age</th>\n",
       "      <th>occupation</th>\n",
       "      <th>city_category</th>\n",
       "      <th>stay_in_current_city_years</th>\n",
       "      <th>marital_status</th>\n",
       "      <th>product_category_1</th>\n",
       "      <th>product_category_2</th>\n",
       "      <th>product_category_3</th>\n",
       "      <th>purchase</th>\n",
       "    </tr>\n",
       "  </thead>\n",
       "  <tbody>\n",
       "    <tr>\n",
       "      <th>0</th>\n",
       "      <td>1000001</td>\n",
       "      <td>P00069042</td>\n",
       "      <td>F</td>\n",
       "      <td>0-17</td>\n",
       "      <td>10</td>\n",
       "      <td>A</td>\n",
       "      <td>2</td>\n",
       "      <td>0</td>\n",
       "      <td>3</td>\n",
       "      <td>NaN</td>\n",
       "      <td>NaN</td>\n",
       "      <td>8370</td>\n",
       "    </tr>\n",
       "    <tr>\n",
       "      <th>1</th>\n",
       "      <td>1000001</td>\n",
       "      <td>P00248942</td>\n",
       "      <td>F</td>\n",
       "      <td>0-17</td>\n",
       "      <td>10</td>\n",
       "      <td>A</td>\n",
       "      <td>2</td>\n",
       "      <td>0</td>\n",
       "      <td>1</td>\n",
       "      <td>6.0</td>\n",
       "      <td>14.0</td>\n",
       "      <td>15200</td>\n",
       "    </tr>\n",
       "    <tr>\n",
       "      <th>2</th>\n",
       "      <td>1000001</td>\n",
       "      <td>P00087842</td>\n",
       "      <td>F</td>\n",
       "      <td>0-17</td>\n",
       "      <td>10</td>\n",
       "      <td>A</td>\n",
       "      <td>2</td>\n",
       "      <td>0</td>\n",
       "      <td>12</td>\n",
       "      <td>NaN</td>\n",
       "      <td>NaN</td>\n",
       "      <td>1422</td>\n",
       "    </tr>\n",
       "    <tr>\n",
       "      <th>3</th>\n",
       "      <td>1000001</td>\n",
       "      <td>P00085442</td>\n",
       "      <td>F</td>\n",
       "      <td>0-17</td>\n",
       "      <td>10</td>\n",
       "      <td>A</td>\n",
       "      <td>2</td>\n",
       "      <td>0</td>\n",
       "      <td>12</td>\n",
       "      <td>14.0</td>\n",
       "      <td>NaN</td>\n",
       "      <td>1057</td>\n",
       "    </tr>\n",
       "    <tr>\n",
       "      <th>4</th>\n",
       "      <td>1000002</td>\n",
       "      <td>P00285442</td>\n",
       "      <td>M</td>\n",
       "      <td>55+</td>\n",
       "      <td>16</td>\n",
       "      <td>C</td>\n",
       "      <td>4+</td>\n",
       "      <td>0</td>\n",
       "      <td>8</td>\n",
       "      <td>NaN</td>\n",
       "      <td>NaN</td>\n",
       "      <td>7969</td>\n",
       "    </tr>\n",
       "    <tr>\n",
       "      <th>...</th>\n",
       "      <td>...</td>\n",
       "      <td>...</td>\n",
       "      <td>...</td>\n",
       "      <td>...</td>\n",
       "      <td>...</td>\n",
       "      <td>...</td>\n",
       "      <td>...</td>\n",
       "      <td>...</td>\n",
       "      <td>...</td>\n",
       "      <td>...</td>\n",
       "      <td>...</td>\n",
       "      <td>...</td>\n",
       "    </tr>\n",
       "    <tr>\n",
       "      <th>550063</th>\n",
       "      <td>1006033</td>\n",
       "      <td>P00372445</td>\n",
       "      <td>M</td>\n",
       "      <td>51-55</td>\n",
       "      <td>13</td>\n",
       "      <td>B</td>\n",
       "      <td>1</td>\n",
       "      <td>1</td>\n",
       "      <td>20</td>\n",
       "      <td>NaN</td>\n",
       "      <td>NaN</td>\n",
       "      <td>368</td>\n",
       "    </tr>\n",
       "    <tr>\n",
       "      <th>550064</th>\n",
       "      <td>1006035</td>\n",
       "      <td>P00375436</td>\n",
       "      <td>F</td>\n",
       "      <td>26-35</td>\n",
       "      <td>1</td>\n",
       "      <td>C</td>\n",
       "      <td>3</td>\n",
       "      <td>0</td>\n",
       "      <td>20</td>\n",
       "      <td>NaN</td>\n",
       "      <td>NaN</td>\n",
       "      <td>371</td>\n",
       "    </tr>\n",
       "    <tr>\n",
       "      <th>550065</th>\n",
       "      <td>1006036</td>\n",
       "      <td>P00375436</td>\n",
       "      <td>F</td>\n",
       "      <td>26-35</td>\n",
       "      <td>15</td>\n",
       "      <td>B</td>\n",
       "      <td>4+</td>\n",
       "      <td>1</td>\n",
       "      <td>20</td>\n",
       "      <td>NaN</td>\n",
       "      <td>NaN</td>\n",
       "      <td>137</td>\n",
       "    </tr>\n",
       "    <tr>\n",
       "      <th>550066</th>\n",
       "      <td>1006038</td>\n",
       "      <td>P00375436</td>\n",
       "      <td>F</td>\n",
       "      <td>55+</td>\n",
       "      <td>1</td>\n",
       "      <td>C</td>\n",
       "      <td>2</td>\n",
       "      <td>0</td>\n",
       "      <td>20</td>\n",
       "      <td>NaN</td>\n",
       "      <td>NaN</td>\n",
       "      <td>365</td>\n",
       "    </tr>\n",
       "    <tr>\n",
       "      <th>550067</th>\n",
       "      <td>1006039</td>\n",
       "      <td>P00371644</td>\n",
       "      <td>F</td>\n",
       "      <td>46-50</td>\n",
       "      <td>0</td>\n",
       "      <td>B</td>\n",
       "      <td>4+</td>\n",
       "      <td>1</td>\n",
       "      <td>20</td>\n",
       "      <td>NaN</td>\n",
       "      <td>NaN</td>\n",
       "      <td>490</td>\n",
       "    </tr>\n",
       "  </tbody>\n",
       "</table>\n",
       "<p>550068 rows × 12 columns</p>\n",
       "</div>"
      ],
      "text/plain": [
       "        user_id product_id gender    age  occupation city_category  \\\n",
       "0       1000001  P00069042      F   0-17          10             A   \n",
       "1       1000001  P00248942      F   0-17          10             A   \n",
       "2       1000001  P00087842      F   0-17          10             A   \n",
       "3       1000001  P00085442      F   0-17          10             A   \n",
       "4       1000002  P00285442      M    55+          16             C   \n",
       "...         ...        ...    ...    ...         ...           ...   \n",
       "550063  1006033  P00372445      M  51-55          13             B   \n",
       "550064  1006035  P00375436      F  26-35           1             C   \n",
       "550065  1006036  P00375436      F  26-35          15             B   \n",
       "550066  1006038  P00375436      F    55+           1             C   \n",
       "550067  1006039  P00371644      F  46-50           0             B   \n",
       "\n",
       "       stay_in_current_city_years  marital_status  product_category_1  \\\n",
       "0                               2               0                   3   \n",
       "1                               2               0                   1   \n",
       "2                               2               0                  12   \n",
       "3                               2               0                  12   \n",
       "4                              4+               0                   8   \n",
       "...                           ...             ...                 ...   \n",
       "550063                          1               1                  20   \n",
       "550064                          3               0                  20   \n",
       "550065                         4+               1                  20   \n",
       "550066                          2               0                  20   \n",
       "550067                         4+               1                  20   \n",
       "\n",
       "        product_category_2  product_category_3  purchase  \n",
       "0                      NaN                 NaN      8370  \n",
       "1                      6.0                14.0     15200  \n",
       "2                      NaN                 NaN      1422  \n",
       "3                     14.0                 NaN      1057  \n",
       "4                      NaN                 NaN      7969  \n",
       "...                    ...                 ...       ...  \n",
       "550063                 NaN                 NaN       368  \n",
       "550064                 NaN                 NaN       371  \n",
       "550065                 NaN                 NaN       137  \n",
       "550066                 NaN                 NaN       365  \n",
       "550067                 NaN                 NaN       490  \n",
       "\n",
       "[550068 rows x 12 columns]"
      ]
     },
     "execution_count": 133,
     "metadata": {},
     "output_type": "execute_result"
    }
   ],
   "source": [
    "#Renaming the column name to lower case\n",
    "df.columns = df.columns.str.lower()\n",
    "df"
   ]
  },
  {
   "cell_type": "code",
   "execution_count": 136,
   "id": "079add94",
   "metadata": {
    "papermill": {
     "duration": 0.072934,
     "end_time": "2023-09-04T12:42:46.955437",
     "exception": false,
     "start_time": "2023-09-04T12:42:46.882503",
     "status": "completed"
    },
    "tags": []
   },
   "outputs": [
    {
     "data": {
      "text/html": [
       "<div>\n",
       "<style scoped>\n",
       "    .dataframe tbody tr th:only-of-type {\n",
       "        vertical-align: middle;\n",
       "    }\n",
       "\n",
       "    .dataframe tbody tr th {\n",
       "        vertical-align: top;\n",
       "    }\n",
       "\n",
       "    .dataframe thead th {\n",
       "        text-align: right;\n",
       "    }\n",
       "</style>\n",
       "<table border=\"1\" class=\"dataframe\">\n",
       "  <thead>\n",
       "    <tr style=\"text-align: right;\">\n",
       "      <th></th>\n",
       "      <th>product_id</th>\n",
       "      <th>gender</th>\n",
       "      <th>age</th>\n",
       "      <th>occupation</th>\n",
       "      <th>city_category</th>\n",
       "      <th>stay_in_current_city_years</th>\n",
       "      <th>marital_status</th>\n",
       "      <th>product_category_1</th>\n",
       "      <th>product_category_2</th>\n",
       "      <th>product_category_3</th>\n",
       "      <th>purchase</th>\n",
       "    </tr>\n",
       "  </thead>\n",
       "  <tbody>\n",
       "    <tr>\n",
       "      <th>0</th>\n",
       "      <td>P00069042</td>\n",
       "      <td>F</td>\n",
       "      <td>0-17</td>\n",
       "      <td>10</td>\n",
       "      <td>A</td>\n",
       "      <td>2</td>\n",
       "      <td>0</td>\n",
       "      <td>3</td>\n",
       "      <td>NaN</td>\n",
       "      <td>NaN</td>\n",
       "      <td>8370</td>\n",
       "    </tr>\n",
       "    <tr>\n",
       "      <th>1</th>\n",
       "      <td>P00248942</td>\n",
       "      <td>F</td>\n",
       "      <td>0-17</td>\n",
       "      <td>10</td>\n",
       "      <td>A</td>\n",
       "      <td>2</td>\n",
       "      <td>0</td>\n",
       "      <td>1</td>\n",
       "      <td>6.0</td>\n",
       "      <td>14.0</td>\n",
       "      <td>15200</td>\n",
       "    </tr>\n",
       "    <tr>\n",
       "      <th>2</th>\n",
       "      <td>P00087842</td>\n",
       "      <td>F</td>\n",
       "      <td>0-17</td>\n",
       "      <td>10</td>\n",
       "      <td>A</td>\n",
       "      <td>2</td>\n",
       "      <td>0</td>\n",
       "      <td>12</td>\n",
       "      <td>NaN</td>\n",
       "      <td>NaN</td>\n",
       "      <td>1422</td>\n",
       "    </tr>\n",
       "    <tr>\n",
       "      <th>3</th>\n",
       "      <td>P00085442</td>\n",
       "      <td>F</td>\n",
       "      <td>0-17</td>\n",
       "      <td>10</td>\n",
       "      <td>A</td>\n",
       "      <td>2</td>\n",
       "      <td>0</td>\n",
       "      <td>12</td>\n",
       "      <td>14.0</td>\n",
       "      <td>NaN</td>\n",
       "      <td>1057</td>\n",
       "    </tr>\n",
       "    <tr>\n",
       "      <th>4</th>\n",
       "      <td>P00285442</td>\n",
       "      <td>M</td>\n",
       "      <td>55+</td>\n",
       "      <td>16</td>\n",
       "      <td>C</td>\n",
       "      <td>4+</td>\n",
       "      <td>0</td>\n",
       "      <td>8</td>\n",
       "      <td>NaN</td>\n",
       "      <td>NaN</td>\n",
       "      <td>7969</td>\n",
       "    </tr>\n",
       "    <tr>\n",
       "      <th>...</th>\n",
       "      <td>...</td>\n",
       "      <td>...</td>\n",
       "      <td>...</td>\n",
       "      <td>...</td>\n",
       "      <td>...</td>\n",
       "      <td>...</td>\n",
       "      <td>...</td>\n",
       "      <td>...</td>\n",
       "      <td>...</td>\n",
       "      <td>...</td>\n",
       "      <td>...</td>\n",
       "    </tr>\n",
       "    <tr>\n",
       "      <th>550063</th>\n",
       "      <td>P00372445</td>\n",
       "      <td>M</td>\n",
       "      <td>51-55</td>\n",
       "      <td>13</td>\n",
       "      <td>B</td>\n",
       "      <td>1</td>\n",
       "      <td>1</td>\n",
       "      <td>20</td>\n",
       "      <td>NaN</td>\n",
       "      <td>NaN</td>\n",
       "      <td>368</td>\n",
       "    </tr>\n",
       "    <tr>\n",
       "      <th>550064</th>\n",
       "      <td>P00375436</td>\n",
       "      <td>F</td>\n",
       "      <td>26-35</td>\n",
       "      <td>1</td>\n",
       "      <td>C</td>\n",
       "      <td>3</td>\n",
       "      <td>0</td>\n",
       "      <td>20</td>\n",
       "      <td>NaN</td>\n",
       "      <td>NaN</td>\n",
       "      <td>371</td>\n",
       "    </tr>\n",
       "    <tr>\n",
       "      <th>550065</th>\n",
       "      <td>P00375436</td>\n",
       "      <td>F</td>\n",
       "      <td>26-35</td>\n",
       "      <td>15</td>\n",
       "      <td>B</td>\n",
       "      <td>4+</td>\n",
       "      <td>1</td>\n",
       "      <td>20</td>\n",
       "      <td>NaN</td>\n",
       "      <td>NaN</td>\n",
       "      <td>137</td>\n",
       "    </tr>\n",
       "    <tr>\n",
       "      <th>550066</th>\n",
       "      <td>P00375436</td>\n",
       "      <td>F</td>\n",
       "      <td>55+</td>\n",
       "      <td>1</td>\n",
       "      <td>C</td>\n",
       "      <td>2</td>\n",
       "      <td>0</td>\n",
       "      <td>20</td>\n",
       "      <td>NaN</td>\n",
       "      <td>NaN</td>\n",
       "      <td>365</td>\n",
       "    </tr>\n",
       "    <tr>\n",
       "      <th>550067</th>\n",
       "      <td>P00371644</td>\n",
       "      <td>F</td>\n",
       "      <td>46-50</td>\n",
       "      <td>0</td>\n",
       "      <td>B</td>\n",
       "      <td>4+</td>\n",
       "      <td>1</td>\n",
       "      <td>20</td>\n",
       "      <td>NaN</td>\n",
       "      <td>NaN</td>\n",
       "      <td>490</td>\n",
       "    </tr>\n",
       "  </tbody>\n",
       "</table>\n",
       "<p>550068 rows × 11 columns</p>\n",
       "</div>"
      ],
      "text/plain": [
       "       product_id gender    age  occupation city_category  \\\n",
       "0       P00069042      F   0-17          10             A   \n",
       "1       P00248942      F   0-17          10             A   \n",
       "2       P00087842      F   0-17          10             A   \n",
       "3       P00085442      F   0-17          10             A   \n",
       "4       P00285442      M    55+          16             C   \n",
       "...           ...    ...    ...         ...           ...   \n",
       "550063  P00372445      M  51-55          13             B   \n",
       "550064  P00375436      F  26-35           1             C   \n",
       "550065  P00375436      F  26-35          15             B   \n",
       "550066  P00375436      F    55+           1             C   \n",
       "550067  P00371644      F  46-50           0             B   \n",
       "\n",
       "       stay_in_current_city_years  marital_status  product_category_1  \\\n",
       "0                               2               0                   3   \n",
       "1                               2               0                   1   \n",
       "2                               2               0                  12   \n",
       "3                               2               0                  12   \n",
       "4                              4+               0                   8   \n",
       "...                           ...             ...                 ...   \n",
       "550063                          1               1                  20   \n",
       "550064                          3               0                  20   \n",
       "550065                         4+               1                  20   \n",
       "550066                          2               0                  20   \n",
       "550067                         4+               1                  20   \n",
       "\n",
       "        product_category_2  product_category_3  purchase  \n",
       "0                      NaN                 NaN      8370  \n",
       "1                      6.0                14.0     15200  \n",
       "2                      NaN                 NaN      1422  \n",
       "3                     14.0                 NaN      1057  \n",
       "4                      NaN                 NaN      7969  \n",
       "...                    ...                 ...       ...  \n",
       "550063                 NaN                 NaN       368  \n",
       "550064                 NaN                 NaN       371  \n",
       "550065                 NaN                 NaN       137  \n",
       "550066                 NaN                 NaN       365  \n",
       "550067                 NaN                 NaN       490  \n",
       "\n",
       "[550068 rows x 11 columns]"
      ]
     },
     "execution_count": 136,
     "metadata": {},
     "output_type": "execute_result"
    }
   ],
   "source": [
    "#Removing Reducant Values (user id)\n",
    "df.drop('user_id',axis=1)"
   ]
  },
  {
   "cell_type": "code",
   "execution_count": 138,
   "id": "28e0eaaf",
   "metadata": {
    "papermill": {
     "duration": 0.090484,
     "end_time": "2023-09-04T12:42:47.067279",
     "exception": false,
     "start_time": "2023-09-04T12:42:46.976795",
     "status": "completed"
    },
    "tags": []
   },
   "outputs": [
    {
     "name": "stdout",
     "output_type": "stream",
     "text": [
      "[1000001 1000002 1000003 ... 1004113 1005391 1001529]\n",
      "['P00069042' 'P00248942' 'P00087842' ... 'P00370293' 'P00371644'\n",
      " 'P00370853']\n",
      "['F' 'M']\n",
      "['0-17' '55+' '26-35' '46-50' '51-55' '36-45' '18-25']\n",
      "[10 16 15  7 20  9  1 12 17  0  3  4 11  8 19  2 18  5 14 13  6]\n",
      "['A' 'C' 'B']\n",
      "['2' '4+' '3' '1' '0']\n",
      "[0 1]\n",
      "[ 3  1 12  8  5  4  2  6 14 11 13 15  7 16 18 10 17  9 20 19]\n",
      "[nan  6. 14.  2.  8. 15. 16. 11.  5.  3.  4. 12.  9. 10. 17. 13.  7. 18.]\n",
      "[nan 14. 17.  5.  4. 16. 15.  8.  9. 13.  6. 12.  3. 18. 11. 10.]\n",
      "[ 8370 15200  1422 ...   135   123   613]\n"
     ]
    }
   ],
   "source": [
    "#Checking for unique values in each individual column of the dataset\n",
    "for column in df.columns:\n",
    "    print(df[column].unique())"
   ]
  },
  {
   "cell_type": "code",
   "execution_count": null,
   "id": "a0b5ebe4",
   "metadata": {
    "papermill": {
     "duration": 0.07623,
     "end_time": "2023-09-04T12:42:47.164712",
     "exception": false,
     "start_time": "2023-09-04T12:42:47.088482",
     "status": "completed"
    },
    "tags": []
   },
   "outputs": [],
   "source": []
  },
  {
   "cell_type": "code",
   "execution_count": null,
   "id": "d7ad702f",
   "metadata": {
    "papermill": {
     "duration": 0.142623,
     "end_time": "2023-09-04T12:42:47.329747",
     "exception": false,
     "start_time": "2023-09-04T12:42:47.187124",
     "status": "completed"
    },
    "tags": []
   },
   "outputs": [],
   "source": []
  },
  {
   "cell_type": "code",
   "execution_count": 142,
   "id": "b0ae3ebc",
   "metadata": {
    "papermill": {
     "duration": 8.304288,
     "end_time": "2023-09-04T12:42:55.656316",
     "exception": false,
     "start_time": "2023-09-04T12:42:47.352028",
     "status": "completed"
    },
    "tags": []
   },
   "outputs": [],
   "source": [
    "#replace each range in age coulmn to its creosspond category ex:0-17 ->child ,18-25 ->teenage, 26-50 -> adult , 51-55+ ->old"
   ]
  },
  {
   "cell_type": "code",
   "execution_count": 144,
   "id": "bf6a87a1",
   "metadata": {
    "papermill": {
     "duration": 0.081656,
     "end_time": "2023-09-04T12:42:55.760960",
     "exception": false,
     "start_time": "2023-09-04T12:42:55.679304",
     "status": "completed"
    },
    "tags": []
   },
   "outputs": [],
   "source": [
    "age_convert = {\n",
    "    '0-17': 17,\n",
    "    '18-25': 25,\n",
    "    '26-50': 50,\n",
    "}\n",
    "df['age'] = df['age'].map(age_convert)\n",
    "\n",
    "def new_age(age):\n",
    "    if age >= 0 and age <= 17:\n",
    "        return 'Child'\n",
    "    elif age >= 18 and age <= 25:\n",
    "        return 'Teenage'\n",
    "    elif age >=26 and age <= 50:\n",
    "        return 'Adult'\n",
    "    elif age >=51:\n",
    "        return 'Old'\n",
    "    "
   ]
  },
  {
   "cell_type": "code",
   "execution_count": 146,
   "id": "ae4214b5",
   "metadata": {
    "papermill": {
     "duration": 0.037076,
     "end_time": "2023-09-04T12:42:55.820762",
     "exception": false,
     "start_time": "2023-09-04T12:42:55.783686",
     "status": "completed"
    },
    "tags": []
   },
   "outputs": [],
   "source": [
    "df['age'] = df['age'].apply(new_age)"
   ]
  },
  {
   "cell_type": "code",
   "execution_count": 148,
   "id": "2619e536",
   "metadata": {
    "papermill": {
     "duration": 0.075715,
     "end_time": "2023-09-04T12:42:55.919233",
     "exception": false,
     "start_time": "2023-09-04T12:42:55.843518",
     "status": "completed"
    },
    "tags": []
   },
   "outputs": [
    {
     "data": {
      "text/html": [
       "<div>\n",
       "<style scoped>\n",
       "    .dataframe tbody tr th:only-of-type {\n",
       "        vertical-align: middle;\n",
       "    }\n",
       "\n",
       "    .dataframe tbody tr th {\n",
       "        vertical-align: top;\n",
       "    }\n",
       "\n",
       "    .dataframe thead th {\n",
       "        text-align: right;\n",
       "    }\n",
       "</style>\n",
       "<table border=\"1\" class=\"dataframe\">\n",
       "  <thead>\n",
       "    <tr style=\"text-align: right;\">\n",
       "      <th></th>\n",
       "      <th>user_id</th>\n",
       "      <th>product_id</th>\n",
       "      <th>gender</th>\n",
       "      <th>age</th>\n",
       "      <th>occupation</th>\n",
       "      <th>city_category</th>\n",
       "      <th>stay_in_current_city_years</th>\n",
       "      <th>marital_status</th>\n",
       "      <th>product_category_1</th>\n",
       "      <th>product_category_2</th>\n",
       "      <th>product_category_3</th>\n",
       "      <th>purchase</th>\n",
       "    </tr>\n",
       "  </thead>\n",
       "  <tbody>\n",
       "    <tr>\n",
       "      <th>0</th>\n",
       "      <td>1000001</td>\n",
       "      <td>P00069042</td>\n",
       "      <td>F</td>\n",
       "      <td>Child</td>\n",
       "      <td>10</td>\n",
       "      <td>A</td>\n",
       "      <td>2</td>\n",
       "      <td>0</td>\n",
       "      <td>3</td>\n",
       "      <td>NaN</td>\n",
       "      <td>NaN</td>\n",
       "      <td>8370</td>\n",
       "    </tr>\n",
       "    <tr>\n",
       "      <th>1</th>\n",
       "      <td>1000001</td>\n",
       "      <td>P00248942</td>\n",
       "      <td>F</td>\n",
       "      <td>Child</td>\n",
       "      <td>10</td>\n",
       "      <td>A</td>\n",
       "      <td>2</td>\n",
       "      <td>0</td>\n",
       "      <td>1</td>\n",
       "      <td>6.0</td>\n",
       "      <td>14.0</td>\n",
       "      <td>15200</td>\n",
       "    </tr>\n",
       "    <tr>\n",
       "      <th>2</th>\n",
       "      <td>1000001</td>\n",
       "      <td>P00087842</td>\n",
       "      <td>F</td>\n",
       "      <td>Child</td>\n",
       "      <td>10</td>\n",
       "      <td>A</td>\n",
       "      <td>2</td>\n",
       "      <td>0</td>\n",
       "      <td>12</td>\n",
       "      <td>NaN</td>\n",
       "      <td>NaN</td>\n",
       "      <td>1422</td>\n",
       "    </tr>\n",
       "    <tr>\n",
       "      <th>3</th>\n",
       "      <td>1000001</td>\n",
       "      <td>P00085442</td>\n",
       "      <td>F</td>\n",
       "      <td>Child</td>\n",
       "      <td>10</td>\n",
       "      <td>A</td>\n",
       "      <td>2</td>\n",
       "      <td>0</td>\n",
       "      <td>12</td>\n",
       "      <td>14.0</td>\n",
       "      <td>NaN</td>\n",
       "      <td>1057</td>\n",
       "    </tr>\n",
       "    <tr>\n",
       "      <th>4</th>\n",
       "      <td>1000002</td>\n",
       "      <td>P00285442</td>\n",
       "      <td>M</td>\n",
       "      <td>None</td>\n",
       "      <td>16</td>\n",
       "      <td>C</td>\n",
       "      <td>4+</td>\n",
       "      <td>0</td>\n",
       "      <td>8</td>\n",
       "      <td>NaN</td>\n",
       "      <td>NaN</td>\n",
       "      <td>7969</td>\n",
       "    </tr>\n",
       "    <tr>\n",
       "      <th>...</th>\n",
       "      <td>...</td>\n",
       "      <td>...</td>\n",
       "      <td>...</td>\n",
       "      <td>...</td>\n",
       "      <td>...</td>\n",
       "      <td>...</td>\n",
       "      <td>...</td>\n",
       "      <td>...</td>\n",
       "      <td>...</td>\n",
       "      <td>...</td>\n",
       "      <td>...</td>\n",
       "      <td>...</td>\n",
       "    </tr>\n",
       "    <tr>\n",
       "      <th>550063</th>\n",
       "      <td>1006033</td>\n",
       "      <td>P00372445</td>\n",
       "      <td>M</td>\n",
       "      <td>None</td>\n",
       "      <td>13</td>\n",
       "      <td>B</td>\n",
       "      <td>1</td>\n",
       "      <td>1</td>\n",
       "      <td>20</td>\n",
       "      <td>NaN</td>\n",
       "      <td>NaN</td>\n",
       "      <td>368</td>\n",
       "    </tr>\n",
       "    <tr>\n",
       "      <th>550064</th>\n",
       "      <td>1006035</td>\n",
       "      <td>P00375436</td>\n",
       "      <td>F</td>\n",
       "      <td>None</td>\n",
       "      <td>1</td>\n",
       "      <td>C</td>\n",
       "      <td>3</td>\n",
       "      <td>0</td>\n",
       "      <td>20</td>\n",
       "      <td>NaN</td>\n",
       "      <td>NaN</td>\n",
       "      <td>371</td>\n",
       "    </tr>\n",
       "    <tr>\n",
       "      <th>550065</th>\n",
       "      <td>1006036</td>\n",
       "      <td>P00375436</td>\n",
       "      <td>F</td>\n",
       "      <td>None</td>\n",
       "      <td>15</td>\n",
       "      <td>B</td>\n",
       "      <td>4+</td>\n",
       "      <td>1</td>\n",
       "      <td>20</td>\n",
       "      <td>NaN</td>\n",
       "      <td>NaN</td>\n",
       "      <td>137</td>\n",
       "    </tr>\n",
       "    <tr>\n",
       "      <th>550066</th>\n",
       "      <td>1006038</td>\n",
       "      <td>P00375436</td>\n",
       "      <td>F</td>\n",
       "      <td>None</td>\n",
       "      <td>1</td>\n",
       "      <td>C</td>\n",
       "      <td>2</td>\n",
       "      <td>0</td>\n",
       "      <td>20</td>\n",
       "      <td>NaN</td>\n",
       "      <td>NaN</td>\n",
       "      <td>365</td>\n",
       "    </tr>\n",
       "    <tr>\n",
       "      <th>550067</th>\n",
       "      <td>1006039</td>\n",
       "      <td>P00371644</td>\n",
       "      <td>F</td>\n",
       "      <td>None</td>\n",
       "      <td>0</td>\n",
       "      <td>B</td>\n",
       "      <td>4+</td>\n",
       "      <td>1</td>\n",
       "      <td>20</td>\n",
       "      <td>NaN</td>\n",
       "      <td>NaN</td>\n",
       "      <td>490</td>\n",
       "    </tr>\n",
       "  </tbody>\n",
       "</table>\n",
       "<p>550068 rows × 12 columns</p>\n",
       "</div>"
      ],
      "text/plain": [
       "        user_id product_id gender    age  occupation city_category  \\\n",
       "0       1000001  P00069042      F  Child          10             A   \n",
       "1       1000001  P00248942      F  Child          10             A   \n",
       "2       1000001  P00087842      F  Child          10             A   \n",
       "3       1000001  P00085442      F  Child          10             A   \n",
       "4       1000002  P00285442      M   None          16             C   \n",
       "...         ...        ...    ...    ...         ...           ...   \n",
       "550063  1006033  P00372445      M   None          13             B   \n",
       "550064  1006035  P00375436      F   None           1             C   \n",
       "550065  1006036  P00375436      F   None          15             B   \n",
       "550066  1006038  P00375436      F   None           1             C   \n",
       "550067  1006039  P00371644      F   None           0             B   \n",
       "\n",
       "       stay_in_current_city_years  marital_status  product_category_1  \\\n",
       "0                               2               0                   3   \n",
       "1                               2               0                   1   \n",
       "2                               2               0                  12   \n",
       "3                               2               0                  12   \n",
       "4                              4+               0                   8   \n",
       "...                           ...             ...                 ...   \n",
       "550063                          1               1                  20   \n",
       "550064                          3               0                  20   \n",
       "550065                         4+               1                  20   \n",
       "550066                          2               0                  20   \n",
       "550067                         4+               1                  20   \n",
       "\n",
       "        product_category_2  product_category_3  purchase  \n",
       "0                      NaN                 NaN      8370  \n",
       "1                      6.0                14.0     15200  \n",
       "2                      NaN                 NaN      1422  \n",
       "3                     14.0                 NaN      1057  \n",
       "4                      NaN                 NaN      7969  \n",
       "...                    ...                 ...       ...  \n",
       "550063                 NaN                 NaN       368  \n",
       "550064                 NaN                 NaN       371  \n",
       "550065                 NaN                 NaN       137  \n",
       "550066                 NaN                 NaN       365  \n",
       "550067                 NaN                 NaN       490  \n",
       "\n",
       "[550068 rows x 12 columns]"
      ]
     },
     "execution_count": 148,
     "metadata": {},
     "output_type": "execute_result"
    }
   ],
   "source": [
    "df"
   ]
  },
  {
   "cell_type": "code",
   "execution_count": 150,
   "id": "cd855e49",
   "metadata": {
    "papermill": {
     "duration": 0.080012,
     "end_time": "2023-09-04T12:42:56.021854",
     "exception": false,
     "start_time": "2023-09-04T12:42:55.941842",
     "status": "completed"
    },
    "tags": []
   },
   "outputs": [
    {
     "data": {
      "text/plain": [
       "array(['2', '4+', '3', '1', '0'], dtype=object)"
      ]
     },
     "execution_count": 150,
     "metadata": {},
     "output_type": "execute_result"
    }
   ],
   "source": [
    "#Checking for unique values for city_years column\n",
    "df['stay_in_current_city_years'].unique()"
   ]
  },
  {
   "cell_type": "code",
   "execution_count": 13,
   "id": "d5486374",
   "metadata": {
    "execution": {
     "iopub.execute_input": "2023-09-04T12:42:56.069913Z",
     "iopub.status.busy": "2023-09-04T12:42:56.069532Z",
     "iopub.status.idle": "2023-09-04T12:42:57.135130Z",
     "shell.execute_reply": "2023-09-04T12:42:57.133936Z"
    },
    "papermill": {
     "duration": 1.093211,
     "end_time": "2023-09-04T12:42:57.137907",
     "exception": false,
     "start_time": "2023-09-04T12:42:56.044696",
     "status": "completed"
    },
    "tags": []
   },
   "outputs": [],
   "source": [
    "#remove + from rows in city_years column"
   ]
  },
  {
   "cell_type": "code",
   "execution_count": 152,
   "id": "f1ab4abd",
   "metadata": {
    "papermill": {
     "duration": 0.078766,
     "end_time": "2023-09-04T12:42:57.239622",
     "exception": false,
     "start_time": "2023-09-04T12:42:57.160856",
     "status": "completed"
    },
    "tags": []
   },
   "outputs": [],
   "source": [
    "df['stay_in_current_city_years'] = df['stay_in_current_city_years'].str.replace('+', '')"
   ]
  },
  {
   "cell_type": "code",
   "execution_count": 154,
   "id": "ddda69c4",
   "metadata": {
    "papermill": {
     "duration": 0.039281,
     "end_time": "2023-09-04T12:42:57.301806",
     "exception": false,
     "start_time": "2023-09-04T12:42:57.262525",
     "status": "completed"
    },
    "tags": []
   },
   "outputs": [
    {
     "data": {
      "text/html": [
       "<div>\n",
       "<style scoped>\n",
       "    .dataframe tbody tr th:only-of-type {\n",
       "        vertical-align: middle;\n",
       "    }\n",
       "\n",
       "    .dataframe tbody tr th {\n",
       "        vertical-align: top;\n",
       "    }\n",
       "\n",
       "    .dataframe thead th {\n",
       "        text-align: right;\n",
       "    }\n",
       "</style>\n",
       "<table border=\"1\" class=\"dataframe\">\n",
       "  <thead>\n",
       "    <tr style=\"text-align: right;\">\n",
       "      <th></th>\n",
       "      <th>user_id</th>\n",
       "      <th>product_id</th>\n",
       "      <th>gender</th>\n",
       "      <th>age</th>\n",
       "      <th>occupation</th>\n",
       "      <th>city_category</th>\n",
       "      <th>stay_in_current_city_years</th>\n",
       "      <th>marital_status</th>\n",
       "      <th>product_category_1</th>\n",
       "      <th>product_category_2</th>\n",
       "      <th>product_category_3</th>\n",
       "      <th>purchase</th>\n",
       "    </tr>\n",
       "  </thead>\n",
       "  <tbody>\n",
       "    <tr>\n",
       "      <th>0</th>\n",
       "      <td>1000001</td>\n",
       "      <td>P00069042</td>\n",
       "      <td>F</td>\n",
       "      <td>Child</td>\n",
       "      <td>10</td>\n",
       "      <td>A</td>\n",
       "      <td>2</td>\n",
       "      <td>0</td>\n",
       "      <td>3</td>\n",
       "      <td>NaN</td>\n",
       "      <td>NaN</td>\n",
       "      <td>8370</td>\n",
       "    </tr>\n",
       "    <tr>\n",
       "      <th>1</th>\n",
       "      <td>1000001</td>\n",
       "      <td>P00248942</td>\n",
       "      <td>F</td>\n",
       "      <td>Child</td>\n",
       "      <td>10</td>\n",
       "      <td>A</td>\n",
       "      <td>2</td>\n",
       "      <td>0</td>\n",
       "      <td>1</td>\n",
       "      <td>6.0</td>\n",
       "      <td>14.0</td>\n",
       "      <td>15200</td>\n",
       "    </tr>\n",
       "    <tr>\n",
       "      <th>2</th>\n",
       "      <td>1000001</td>\n",
       "      <td>P00087842</td>\n",
       "      <td>F</td>\n",
       "      <td>Child</td>\n",
       "      <td>10</td>\n",
       "      <td>A</td>\n",
       "      <td>2</td>\n",
       "      <td>0</td>\n",
       "      <td>12</td>\n",
       "      <td>NaN</td>\n",
       "      <td>NaN</td>\n",
       "      <td>1422</td>\n",
       "    </tr>\n",
       "    <tr>\n",
       "      <th>3</th>\n",
       "      <td>1000001</td>\n",
       "      <td>P00085442</td>\n",
       "      <td>F</td>\n",
       "      <td>Child</td>\n",
       "      <td>10</td>\n",
       "      <td>A</td>\n",
       "      <td>2</td>\n",
       "      <td>0</td>\n",
       "      <td>12</td>\n",
       "      <td>14.0</td>\n",
       "      <td>NaN</td>\n",
       "      <td>1057</td>\n",
       "    </tr>\n",
       "    <tr>\n",
       "      <th>4</th>\n",
       "      <td>1000002</td>\n",
       "      <td>P00285442</td>\n",
       "      <td>M</td>\n",
       "      <td>None</td>\n",
       "      <td>16</td>\n",
       "      <td>C</td>\n",
       "      <td>4</td>\n",
       "      <td>0</td>\n",
       "      <td>8</td>\n",
       "      <td>NaN</td>\n",
       "      <td>NaN</td>\n",
       "      <td>7969</td>\n",
       "    </tr>\n",
       "    <tr>\n",
       "      <th>...</th>\n",
       "      <td>...</td>\n",
       "      <td>...</td>\n",
       "      <td>...</td>\n",
       "      <td>...</td>\n",
       "      <td>...</td>\n",
       "      <td>...</td>\n",
       "      <td>...</td>\n",
       "      <td>...</td>\n",
       "      <td>...</td>\n",
       "      <td>...</td>\n",
       "      <td>...</td>\n",
       "      <td>...</td>\n",
       "    </tr>\n",
       "    <tr>\n",
       "      <th>550063</th>\n",
       "      <td>1006033</td>\n",
       "      <td>P00372445</td>\n",
       "      <td>M</td>\n",
       "      <td>None</td>\n",
       "      <td>13</td>\n",
       "      <td>B</td>\n",
       "      <td>1</td>\n",
       "      <td>1</td>\n",
       "      <td>20</td>\n",
       "      <td>NaN</td>\n",
       "      <td>NaN</td>\n",
       "      <td>368</td>\n",
       "    </tr>\n",
       "    <tr>\n",
       "      <th>550064</th>\n",
       "      <td>1006035</td>\n",
       "      <td>P00375436</td>\n",
       "      <td>F</td>\n",
       "      <td>None</td>\n",
       "      <td>1</td>\n",
       "      <td>C</td>\n",
       "      <td>3</td>\n",
       "      <td>0</td>\n",
       "      <td>20</td>\n",
       "      <td>NaN</td>\n",
       "      <td>NaN</td>\n",
       "      <td>371</td>\n",
       "    </tr>\n",
       "    <tr>\n",
       "      <th>550065</th>\n",
       "      <td>1006036</td>\n",
       "      <td>P00375436</td>\n",
       "      <td>F</td>\n",
       "      <td>None</td>\n",
       "      <td>15</td>\n",
       "      <td>B</td>\n",
       "      <td>4</td>\n",
       "      <td>1</td>\n",
       "      <td>20</td>\n",
       "      <td>NaN</td>\n",
       "      <td>NaN</td>\n",
       "      <td>137</td>\n",
       "    </tr>\n",
       "    <tr>\n",
       "      <th>550066</th>\n",
       "      <td>1006038</td>\n",
       "      <td>P00375436</td>\n",
       "      <td>F</td>\n",
       "      <td>None</td>\n",
       "      <td>1</td>\n",
       "      <td>C</td>\n",
       "      <td>2</td>\n",
       "      <td>0</td>\n",
       "      <td>20</td>\n",
       "      <td>NaN</td>\n",
       "      <td>NaN</td>\n",
       "      <td>365</td>\n",
       "    </tr>\n",
       "    <tr>\n",
       "      <th>550067</th>\n",
       "      <td>1006039</td>\n",
       "      <td>P00371644</td>\n",
       "      <td>F</td>\n",
       "      <td>None</td>\n",
       "      <td>0</td>\n",
       "      <td>B</td>\n",
       "      <td>4</td>\n",
       "      <td>1</td>\n",
       "      <td>20</td>\n",
       "      <td>NaN</td>\n",
       "      <td>NaN</td>\n",
       "      <td>490</td>\n",
       "    </tr>\n",
       "  </tbody>\n",
       "</table>\n",
       "<p>550068 rows × 12 columns</p>\n",
       "</div>"
      ],
      "text/plain": [
       "        user_id product_id gender    age  occupation city_category  \\\n",
       "0       1000001  P00069042      F  Child          10             A   \n",
       "1       1000001  P00248942      F  Child          10             A   \n",
       "2       1000001  P00087842      F  Child          10             A   \n",
       "3       1000001  P00085442      F  Child          10             A   \n",
       "4       1000002  P00285442      M   None          16             C   \n",
       "...         ...        ...    ...    ...         ...           ...   \n",
       "550063  1006033  P00372445      M   None          13             B   \n",
       "550064  1006035  P00375436      F   None           1             C   \n",
       "550065  1006036  P00375436      F   None          15             B   \n",
       "550066  1006038  P00375436      F   None           1             C   \n",
       "550067  1006039  P00371644      F   None           0             B   \n",
       "\n",
       "       stay_in_current_city_years  marital_status  product_category_1  \\\n",
       "0                               2               0                   3   \n",
       "1                               2               0                   1   \n",
       "2                               2               0                  12   \n",
       "3                               2               0                  12   \n",
       "4                               4               0                   8   \n",
       "...                           ...             ...                 ...   \n",
       "550063                          1               1                  20   \n",
       "550064                          3               0                  20   \n",
       "550065                          4               1                  20   \n",
       "550066                          2               0                  20   \n",
       "550067                          4               1                  20   \n",
       "\n",
       "        product_category_2  product_category_3  purchase  \n",
       "0                      NaN                 NaN      8370  \n",
       "1                      6.0                14.0     15200  \n",
       "2                      NaN                 NaN      1422  \n",
       "3                     14.0                 NaN      1057  \n",
       "4                      NaN                 NaN      7969  \n",
       "...                    ...                 ...       ...  \n",
       "550063                 NaN                 NaN       368  \n",
       "550064                 NaN                 NaN       371  \n",
       "550065                 NaN                 NaN       137  \n",
       "550066                 NaN                 NaN       365  \n",
       "550067                 NaN                 NaN       490  \n",
       "\n",
       "[550068 rows x 12 columns]"
      ]
     },
     "execution_count": 154,
     "metadata": {},
     "output_type": "execute_result"
    }
   ],
   "source": [
    "df"
   ]
  },
  {
   "cell_type": "code",
   "execution_count": null,
   "id": "bb7fdab9",
   "metadata": {
    "execution": {
     "iopub.execute_input": "2023-09-04T12:42:57.350605Z",
     "iopub.status.busy": "2023-09-04T12:42:57.350166Z",
     "iopub.status.idle": "2023-09-04T12:42:57.410659Z",
     "shell.execute_reply": "2023-09-04T12:42:57.409350Z"
    },
    "papermill": {
     "duration": 0.087978,
     "end_time": "2023-09-04T12:42:57.413246",
     "exception": false,
     "start_time": "2023-09-04T12:42:57.325268",
     "status": "completed"
    },
    "tags": []
   },
   "outputs": [],
   "source": []
  },
  {
   "cell_type": "code",
   "execution_count": 156,
   "id": "7bd42096",
   "metadata": {
    "papermill": {
     "duration": 0.039205,
     "end_time": "2023-09-04T12:42:57.476341",
     "exception": false,
     "start_time": "2023-09-04T12:42:57.437136",
     "status": "completed"
    },
    "tags": []
   },
   "outputs": [
    {
     "data": {
      "text/plain": [
       "array([ 3,  1, 12,  8,  5,  4,  2,  6, 14, 11, 13, 15,  7, 16, 18, 10, 17,\n",
       "        9, 20, 19], dtype=int64)"
      ]
     },
     "execution_count": 156,
     "metadata": {},
     "output_type": "execute_result"
    }
   ],
   "source": [
    "#Checking for unique values for category_1 column\n",
    "df['product_category_1'].unique()"
   ]
  },
  {
   "cell_type": "code",
   "execution_count": 158,
   "id": "cb86a15f",
   "metadata": {
    "papermill": {
     "duration": 0.047378,
     "end_time": "2023-09-04T12:42:57.547821",
     "exception": false,
     "start_time": "2023-09-04T12:42:57.500443",
     "status": "completed"
    },
    "tags": []
   },
   "outputs": [
    {
     "data": {
      "text/plain": [
       "array([nan,  6., 14.,  2.,  8., 15., 16., 11.,  5.,  3.,  4., 12.,  9.,\n",
       "       10., 17., 13.,  7., 18.])"
      ]
     },
     "execution_count": 158,
     "metadata": {},
     "output_type": "execute_result"
    }
   ],
   "source": [
    "#Checking for unique values for category_2 column\n",
    "df['product_category_2'].unique()"
   ]
  },
  {
   "cell_type": "code",
   "execution_count": 170,
   "id": "a54a4bfc",
   "metadata": {
    "papermill": {
     "duration": 0.048599,
     "end_time": "2023-09-04T12:42:57.620621",
     "exception": false,
     "start_time": "2023-09-04T12:42:57.572022",
     "status": "completed"
    },
    "tags": []
   },
   "outputs": [],
   "source": [
    "#fill null you found\n",
    "df=df.fillna(0)"
   ]
  },
  {
   "cell_type": "code",
   "execution_count": 172,
   "id": "e11129d7",
   "metadata": {
    "papermill": {
     "duration": 0.041758,
     "end_time": "2023-09-04T12:42:57.686257",
     "exception": false,
     "start_time": "2023-09-04T12:42:57.644499",
     "status": "completed"
    },
    "tags": []
   },
   "outputs": [
    {
     "data": {
      "text/plain": [
       "array([ 0., 14., 17.,  5.,  4., 16., 15.,  8.,  9., 13.,  6., 12.,  3.,\n",
       "       18., 11., 10.])"
      ]
     },
     "execution_count": 172,
     "metadata": {},
     "output_type": "execute_result"
    }
   ],
   "source": [
    "#Checking for unique values for category_3 column\n",
    "df['product_category_3'].unique()"
   ]
  },
  {
   "cell_type": "code",
   "execution_count": 174,
   "id": "ebc6ebc4",
   "metadata": {
    "papermill": {
     "duration": 0.047064,
     "end_time": "2023-09-04T12:42:57.758579",
     "exception": false,
     "start_time": "2023-09-04T12:42:57.711515",
     "status": "completed"
    },
    "tags": []
   },
   "outputs": [
    {
     "data": {
      "text/plain": [
       "array([ 0., 14., 17.,  5.,  4., 16., 15.,  8.,  9., 13.,  6., 12.,  3.,\n",
       "       18., 11., 10.])"
      ]
     },
     "execution_count": 174,
     "metadata": {},
     "output_type": "execute_result"
    }
   ],
   "source": [
    "#fill null you found\n",
    "df.fillna(0)"
   ]
  },
  {
   "cell_type": "code",
   "execution_count": null,
   "id": "61b7c1b7",
   "metadata": {
    "execution": {
     "iopub.execute_input": "2023-09-04T12:42:57.808938Z",
     "iopub.status.busy": "2023-09-04T12:42:57.808508Z",
     "iopub.status.idle": "2023-09-04T12:42:57.822877Z",
     "shell.execute_reply": "2023-09-04T12:42:57.821916Z"
    },
    "papermill": {
     "duration": 0.043028,
     "end_time": "2023-09-04T12:42:57.825912",
     "exception": false,
     "start_time": "2023-09-04T12:42:57.782884",
     "status": "completed"
    },
    "tags": []
   },
   "outputs": [],
   "source": []
  },
  {
   "cell_type": "code",
   "execution_count": 182,
   "id": "0047acb7",
   "metadata": {
    "papermill": {
     "duration": 0.322937,
     "end_time": "2023-09-04T12:42:58.174246",
     "exception": false,
     "start_time": "2023-09-04T12:42:57.851309",
     "status": "completed"
    },
    "tags": []
   },
   "outputs": [
    {
     "data": {
      "text/plain": [
       "user_id                       0\n",
       "product_id                    0\n",
       "gender                        0\n",
       "age                           0\n",
       "occupation                    0\n",
       "city_category                 0\n",
       "stay_in_current_city_years    0\n",
       "marital_status                0\n",
       "product_category_1            0\n",
       "product_category_2            0\n",
       "product_category_3            0\n",
       "purchase                      0\n",
       "dtype: int64"
      ]
     },
     "execution_count": 182,
     "metadata": {},
     "output_type": "execute_result"
    }
   ],
   "source": [
    "#check for null values\n",
    "df.isna().sum()"
   ]
  },
  {
   "cell_type": "code",
   "execution_count": 184,
   "id": "9b097b9f",
   "metadata": {
    "papermill": {
     "duration": 0.031961,
     "end_time": "2023-09-04T12:43:24.977355",
     "exception": false,
     "start_time": "2023-09-04T12:43:24.945394",
     "status": "completed"
    },
    "tags": []
   },
   "outputs": [
    {
     "data": {
      "text/plain": [
       "0"
      ]
     },
     "execution_count": 184,
     "metadata": {},
     "output_type": "execute_result"
    }
   ],
   "source": [
    "#check for duplicates values\n",
    "df.duplicated().sum()"
   ]
  },
  {
   "cell_type": "code",
   "execution_count": null,
   "id": "bb265343-6f5a-42d3-9f7c-27420199d682",
   "metadata": {},
   "outputs": [],
   "source": []
  }
 ],
 "metadata": {
  "kernelspec": {
   "display_name": "Python 3 (ipykernel)",
   "language": "python",
   "name": "python3"
  },
  "language_info": {
   "codemirror_mode": {
    "name": "ipython",
    "version": 3
   },
   "file_extension": ".py",
   "mimetype": "text/x-python",
   "name": "python",
   "nbconvert_exporter": "python",
   "pygments_lexer": "ipython3",
   "version": "3.11.7"
  },
  "papermill": {
   "default_parameters": {},
   "duration": 47.110011,
   "end_time": "2023-09-04T12:43:25.832217",
   "environment_variables": {},
   "exception": null,
   "input_path": "__notebook__.ipynb",
   "output_path": "__notebook__.ipynb",
   "parameters": {},
   "start_time": "2023-09-04T12:42:38.722206",
   "version": "2.4.0"
  }
 },
 "nbformat": 4,
 "nbformat_minor": 5
}
